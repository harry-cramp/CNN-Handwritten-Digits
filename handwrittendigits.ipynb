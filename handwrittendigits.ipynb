{
 "cells": [
  {
   "cell_type": "code",
   "execution_count": 7,
   "metadata": {},
   "outputs": [
    {
     "name": "stdout",
     "output_type": "stream",
     "text": [
      "Epoch 1/10\n",
      "300/300 - 3s - loss: 0.2829 - accuracy: 0.9200 - val_loss: 0.1410 - val_accuracy: 0.9602\n",
      "Epoch 2/10\n",
      "300/300 - 3s - loss: 0.1107 - accuracy: 0.9676 - val_loss: 0.0927 - val_accuracy: 0.9723\n",
      "Epoch 3/10\n",
      "300/300 - 3s - loss: 0.0718 - accuracy: 0.9794 - val_loss: 0.0769 - val_accuracy: 0.9768\n",
      "Epoch 4/10\n",
      "300/300 - 3s - loss: 0.0511 - accuracy: 0.9853 - val_loss: 0.0696 - val_accuracy: 0.9773\n",
      "Epoch 5/10\n",
      "300/300 - 3s - loss: 0.0373 - accuracy: 0.9898 - val_loss: 0.0648 - val_accuracy: 0.9800\n",
      "Epoch 6/10\n",
      "300/300 - 3s - loss: 0.0268 - accuracy: 0.9928 - val_loss: 0.0599 - val_accuracy: 0.9815\n",
      "Epoch 7/10\n",
      "300/300 - 3s - loss: 0.0204 - accuracy: 0.9945 - val_loss: 0.0601 - val_accuracy: 0.9822\n",
      "Epoch 8/10\n",
      "300/300 - 3s - loss: 0.0145 - accuracy: 0.9969 - val_loss: 0.0629 - val_accuracy: 0.9791\n",
      "Epoch 9/10\n",
      "300/300 - 3s - loss: 0.0120 - accuracy: 0.9973 - val_loss: 0.0590 - val_accuracy: 0.9822\n",
      "Epoch 10/10\n",
      "300/300 - 3s - loss: 0.0084 - accuracy: 0.9984 - val_loss: 0.0599 - val_accuracy: 0.9820\n",
      "Baseline error: 1.80%\n"
     ]
    }
   ],
   "source": [
    "from keras.datasets import mnist\n",
    "from keras.models import Sequential\n",
    "from keras.layers import Dense\n",
    "from keras.layers import Dropout\n",
    "from keras.utils import np_utils\n",
    "\n",
    "# (down)load MNIST handwritten digit dataset\n",
    "(x_train, y_train), (x_test, y_test) = mnist.load_data()\n",
    "\n",
    "# transform images into pixel arrays\n",
    "num_pixels = x_train.shape[1] * x_train.shape[2]\n",
    "x_train = x_train.reshape((x_train.shape[0], num_pixels)).astype('float32')\n",
    "x_test = x_test.reshape((x_test.shape[0], num_pixels)).astype('float32')\n",
    "\n",
    "# normalise pixel values to scale of 0-1\n",
    "x_train = x_train / 255\n",
    "x_test = x_test / 255\n",
    "\n",
    "# outputs in one hot encode form\n",
    "y_train = np_utils.to_categorical(y_train)\n",
    "y_test = np_utils.to_categorical(y_test)\n",
    "num_classes = y_test.shape[1]\n",
    "\n",
    "def baseline_model():\n",
    "    # create model\n",
    "    model = Sequential()\n",
    "    # neural network with one hidden layer\n",
    "    # contains 784 (28x28) neurons, one for each input\n",
    "    # uses rectifier activation function for neurons in hidden layer\n",
    "    model.add(Dense(num_pixels, input_dim=num_pixels, kernel_initializer='normal', activation='relu'))\n",
    "    # softmax activation function used on output layer to turn outputs into probability values\n",
    "    # and selects one of the 10 classes as the model's prediction\n",
    "    # Logarithmic loss (keras: categorical_crossentropy) is used as the loss function\n",
    "    # and ADAM gradient descent is used to learn the weights\n",
    "    model.add(Dense(num_classes, kernel_initializer='normal', activation='softmax'))\n",
    "    \n",
    "    model.compile(loss='categorical_crossentropy', optimizer='adam', metrics=['accuracy'])\n",
    "    return model\n",
    "\n",
    "# build model\n",
    "model = baseline_model()\n",
    "# fit the model\n",
    "model.fit(x_train, y_train, validation_data=(x_test, y_test), epochs=10, batch_size=200, verbose=2)\n",
    "# evaluate the model\n",
    "scores = model.evaluate(x_test, y_test, verbose=0)\n",
    "print(\"Baseline error: %.2f%%\" % (100-scores[1]*100))"
   ]
  },
  {
   "cell_type": "code",
   "execution_count": null,
   "metadata": {},
   "outputs": [],
   "source": []
  }
 ],
 "metadata": {
  "kernelspec": {
   "display_name": "Python 3",
   "language": "python",
   "name": "python3"
  },
  "language_info": {
   "codemirror_mode": {
    "name": "ipython",
    "version": 3
   },
   "file_extension": ".py",
   "mimetype": "text/x-python",
   "name": "python",
   "nbconvert_exporter": "python",
   "pygments_lexer": "ipython3",
   "version": "3.8.5"
  }
 },
 "nbformat": 4,
 "nbformat_minor": 4
}
